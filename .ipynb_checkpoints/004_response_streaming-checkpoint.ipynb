{
 "cells": [
  {
   "cell_type": "code",
   "execution_count": null,
   "id": "3617bf6f",
   "metadata": {},
   "outputs": [],
   "source": [
    "# Client Creation\n",
    "from dotenv import load_dotenv\n",
    "load_dotenv()\n",
    "\n",
    "from anthropic import Anthropic\n",
    "\n",
    "client = Anthropic()\n",
    "model = \"claude-sonnet-4-0\""
   ]
  },
  {
   "cell_type": "code",
   "execution_count": null,
   "id": "c1a00edb",
   "metadata": {},
   "outputs": [],
   "source": [
    "# Helper Functions\n",
    "def add_user_message(messages, text):\n",
    "    user_message = {\"role\": \"user\", \"content\": text}\n",
    "    messages.append(user_message)\n",
    "\n",
    "def add_assistant_message(messages, text):\n",
    "    assistant_message = {\"role\": \"assistant\", \"content\": text}\n",
    "    messages.append(assistant_message)\n",
    "\n",
    "def chat(messages, system=None, temperature=1.0):\n",
    "    params = {\n",
    "        \"model\": model,\n",
    "        \"max_tokens\": 1000,\n",
    "        \"messages\": messages,\n",
    "        \"temperature\": temperature,\n",
    "    }\n",
    "\n",
    "    if system:\n",
    "        params[\"system\"] = system\n",
    "\n",
    "    message = client.messages.create(**params)\n",
    "    return message.content[0].text"
   ]
  },
  {
   "cell_type": "code",
   "execution_count": null,
   "id": "77e6b23b",
   "metadata": {},
   "outputs": [],
   "source": [
    "messages = []\n",
    "\n",
    "system = \"\"\"\n",
    "\"\"\"\n",
    "\n",
    "add_user_message(messages, \"Generate a 1 sentence short film idea.\")\n",
    "\n",
    "chat(messages, temperature=1.0)"
   ]
  }
 ],
 "metadata": {
  "language_info": {
   "name": "python"
  }
 },
 "nbformat": 4,
 "nbformat_minor": 5
}
