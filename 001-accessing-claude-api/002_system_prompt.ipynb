{
 "cells": [
  {
   "cell_type": "code",
   "execution_count": 1,
   "id": "7e2f6f65",
   "metadata": {},
   "outputs": [],
   "source": [
    "# Client Creation\n",
    "from dotenv import load_dotenv\n",
    "load_dotenv()\n",
    "\n",
    "from anthropic import Anthropic\n",
    "\n",
    "client = Anthropic()\n",
    "model = \"claude-sonnet-4-0\""
   ]
  },
  {
   "cell_type": "code",
   "execution_count": 4,
   "id": "b142f806",
   "metadata": {},
   "outputs": [],
   "source": [
    "# Helper Functions\n",
    "def add_user_message(messages, text):\n",
    "    user_message = {\"role\": \"user\", \"content\": text}\n",
    "    messages.append(user_message)\n",
    "\n",
    "def add_assistant_message(messages, text):\n",
    "    assistant_message = {\"role\": \"assistant\", \"content\": text}\n",
    "    messages.append(assistant_message)\n",
    "\n",
    "# def chat(messages):\n",
    "#     system_prompt = \"\"\"\n",
    "#     You are a patient math tutor.\n",
    "#     Do not directly answer a student's questions.\n",
    "#     Guide them to a solution step by step.\n",
    "#     \"\"\"\n",
    "\n",
    "#     client.messages.create(\n",
    "#         model=model,\n",
    "#         messages=messages,\n",
    "#         max_tokens=1000,\n",
    "#         system=system_prompt\n",
    "#     )\n",
    "\n",
    "#     message = client.messages.create(\n",
    "#         model=model,\n",
    "#         max_tokens=1000,\n",
    "#         messages=messages,\n",
    "#     )\n",
    "#     return message.content[0].text\n",
    "\n",
    "def chat(messages, system=None):\n",
    "    params = {\n",
    "        \"model\": model,\n",
    "        \"max_tokens\": 1000,\n",
    "        \"messages\": messages,\n",
    "    }\n",
    "\n",
    "    if system:\n",
    "        params[\"system\"] = system\n",
    "\n",
    "    message = client.messages.create(**params)\n",
    "    return message.content[0].text"
   ]
  },
  {
   "cell_type": "code",
   "execution_count": 10,
   "id": "efae602c",
   "metadata": {},
   "outputs": [
    {
     "data": {
      "text/plain": [
       "'```python\\ndef has_duplicates(s):\\n    return len(s) != len(set(s))\\n```'"
      ]
     },
     "execution_count": 10,
     "metadata": {},
     "output_type": "execute_result"
    }
   ],
   "source": [
    "messages = []\n",
    "\n",
    "system = \"\"\"\n",
    "You are a helpful assistant that writes Python code.\n",
    "Your responses should be concise and to the point.\n",
    "You should not include any other text than the code.\n",
    "You should not include any explanations.\n",
    "You should not include any other text than the code.\n",
    "You should not include any other text than the code.\n",
    "\"\"\"\n",
    "\n",
    "add_user_message(messages, \"Write a Python function that checks a string for duplicate characters.\")\n",
    "\n",
    "chat(messages, system=system)"
   ]
  }
 ],
 "metadata": {
  "kernelspec": {
   "display_name": "Python 3",
   "language": "python",
   "name": "python3"
  },
  "language_info": {
   "codemirror_mode": {
    "name": "ipython",
    "version": 3
   },
   "file_extension": ".py",
   "mimetype": "text/x-python",
   "name": "python",
   "nbconvert_exporter": "python",
   "pygments_lexer": "ipython3",
   "version": "3.10.13"
  }
 },
 "nbformat": 4,
 "nbformat_minor": 5
}
