{
 "cells": [
  {
   "cell_type": "code",
   "execution_count": 2,
   "id": "a6b2939f",
   "metadata": {},
   "outputs": [],
   "source": [
    "# Client Creation\n",
    "from dotenv import load_dotenv\n",
    "load_dotenv()\n",
    "\n",
    "from anthropic import Anthropic\n",
    "\n",
    "client = Anthropic()\n",
    "model = \"claude-sonnet-4-0\""
   ]
  },
  {
   "cell_type": "code",
   "execution_count": 3,
   "id": "1d958f78",
   "metadata": {},
   "outputs": [],
   "source": [
    "# Helper Functions\n",
    "def add_user_message(messages, text):\n",
    "    user_message = {\"role\": \"user\", \"content\": text}\n",
    "    messages.append(user_message)\n",
    "\n",
    "def add_assistant_message(messages, text):\n",
    "    assistant_message = {\"role\": \"assistant\", \"content\": text}\n",
    "    messages.append(assistant_message)\n",
    "\n",
    "def chat(messages, system=None, temperature=1.0):\n",
    "    params = {\n",
    "        \"model\": model,\n",
    "        \"max_tokens\": 1000,\n",
    "        \"messages\": messages,\n",
    "        \"temperature\": temperature,\n",
    "    }\n",
    "\n",
    "    if system:\n",
    "        params[\"system\"] = system\n",
    "\n",
    "    message = client.messages.create(**params)\n",
    "    return message.content[0].text"
   ]
  },
  {
   "cell_type": "code",
   "execution_count": 5,
   "id": "bc7b94b3",
   "metadata": {},
   "outputs": [
    {
     "data": {
      "text/plain": [
       "' it has more caffeine, which provides a stronger energy boost to help you wake up and feel alert in the morning.\\n\\nTea is better because it contains L-theanine, an amino acid that promotes calm focus and can provide sustained energy without the jitters that some people experience with coffee.\\n\\nBoth answers could be correct depending on your personal needs and preferences! Coffee tends to be the go-to choice for those seeking a quick energy boost, while tea might be better for those who prefer a gentler start to their day. Your ideal breakfast drink depends on factors like:\\n\\n- Your caffeine tolerance\\n- Whether you prefer bold or mild flavors\\n- How your body responds to different levels of caffeine\\n- Your overall health considerations\\n\\nWhat matters most is what makes you feel good and fits your morning routine.'"
      ]
     },
     "execution_count": 5,
     "metadata": {},
     "output_type": "execute_result"
    }
   ],
   "source": [
    "messages = []\n",
    "\n",
    "add_user_message(messages, \"Is tea or coffee better at breakfast?\")\n",
    "\n",
    "add_assistant_message(messages, \"Coffee is better because\")\n",
    "\n",
    "answer = chat(messages)\n",
    "\n",
    "answer"
   ]
  }
 ],
 "metadata": {
  "kernelspec": {
   "display_name": "Python 3",
   "language": "python",
   "name": "python3"
  },
  "language_info": {
   "codemirror_mode": {
    "name": "ipython",
    "version": 3
   },
   "file_extension": ".py",
   "mimetype": "text/x-python",
   "name": "python",
   "nbconvert_exporter": "python",
   "pygments_lexer": "ipython3",
   "version": "3.10.13"
  }
 },
 "nbformat": 4,
 "nbformat_minor": 5
}
