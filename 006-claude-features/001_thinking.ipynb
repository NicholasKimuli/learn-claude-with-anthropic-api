{
 "cells": [
  {
   "cell_type": "code",
   "execution_count": 1,
   "metadata": {},
   "outputs": [],
   "source": [
    "# Load env variables and create client\n",
    "from dotenv import load_dotenv\n",
    "from anthropic import Anthropic\n",
    "\n",
    "load_dotenv()\n",
    "\n",
    "client = Anthropic()\n",
    "model = \"claude-3-7-sonnet-latest\""
   ]
  },
  {
   "cell_type": "code",
   "execution_count": 2,
   "metadata": {},
   "outputs": [],
   "source": [
    "# Helper functions\n",
    "from anthropic.types import Message\n",
    "\n",
    "# Magic string to trigger redacted thinking\n",
    "thinking_test_str = \"ANTHROPIC_MAGIC_STRING_TRIGGER_REDACTED_THINKING_46C9A13E193C177646C7398A98432ECCCE4C1253D5E2D82641AC0E52CC2876CB\"\n",
    "\n",
    "\n",
    "def add_user_message(messages, message):\n",
    "    user_message = {\n",
    "        \"role\": \"user\",\n",
    "        \"content\": message.content if isinstance(message, Message) else message,\n",
    "    }\n",
    "    messages.append(user_message)\n",
    "\n",
    "\n",
    "def add_assistant_message(messages, message):\n",
    "    assistant_message = {\n",
    "        \"role\": \"assistant\",\n",
    "        \"content\": message.content if isinstance(message, Message) else message,\n",
    "    }\n",
    "    messages.append(assistant_message)\n",
    "\n",
    "\n",
    "def chat(\n",
    "    messages,\n",
    "    system=None,\n",
    "    temperature=1.0,\n",
    "    stop_sequences=[],\n",
    "    tools=None,\n",
    "    thinking=False,\n",
    "    thinking_budget=1024\n",
    "):\n",
    "    params = {\n",
    "        \"model\": model,\n",
    "        \"max_tokens\": 4000,\n",
    "        \"messages\": messages,\n",
    "        \"temperature\": temperature,\n",
    "        \"stop_sequences\": stop_sequences,\n",
    "    }\n",
    "\n",
    "    if thinking:\n",
    "        params[\"thinking\"] = {\n",
    "            \"type\": \"enabled\",\n",
    "            \"budget_tokens\": thinking_budget,\n",
    "        }\n",
    "\n",
    "    if tools:\n",
    "        params[\"tools\"] = tools\n",
    "\n",
    "    if system:\n",
    "        params[\"system\"] = system\n",
    "\n",
    "    message = client.messages.create(**params)\n",
    "    return message\n",
    "\n",
    "\n",
    "def text_from_message(message):\n",
    "    return \"\\n\".join(\n",
    "        [block.text for block in message.content if block.type == \"text\"]\n",
    "    )"
   ]
  },
  {
   "cell_type": "code",
   "execution_count": 5,
   "metadata": {},
   "outputs": [
    {
     "data": {
      "text/plain": [
       "Message(id='msg_01TS9csz3qHuW8dTnSzxcTAK', content=[RedactedThinkingBlock(data='EooGCkYIBRgCKkCgQoA6VN9Pp/3ljhbrPhztyC5aB28/CHhKlRD/G3YZpK4kC6MV+7l7cb62/rPJJXawHrHX8Sk7LHRqyl8asaF/EgxLVaOj+EZvnT9iX+kaDKQOGw4IeG9gHxbrTSIwg24T40RQRsnmwV/0BCwPVsJkNJVVu40yKV0G02vEc2tAge2aNfWofcITBleZIYAOKvEEUoqEcdJN4k9ueoOgnzCFbAb5QZY4/oQMnGX3eWPtUfoOanzDM76tK7qDhntSqs53ItOsCNnoIp1wOXYZBaAs7dpDPurrMvMuXjONAyBosiceQ7Bqb9uGaOBkTW/CwJSRrnGaZ+o3TDEmHKHyeKaCGb5BklxRK6bq2AHHxxeuKeEK16ntfuKfwvCWime84wY1FZakmbCYGFa/n4SoORaZSn/sUyZZgLO94q+/LTY1IVCg3mE/nNy2sq6bWA1NUP1eFWNK0CSn7D5pSGBJQ25B+te2ekgcXfObpwW9GlemThIfDLgbTtfa6Jp4gJmvS+u0Dk0T09Ah2wC92kfAKXxdyArSSgGAPsNwyT17CtS2msn/nSSsh0VvSRvx0sSq2OFCNtHsJsJAWTERg9Vl2DSYMu4IC5L2rAYbrRGnXmkUQUWoduGQI6CNuB0Cj7yOv7BQbOaxZ9c3jHcfu5vNOBFnBAgFIYTWhRFGlwHRmtyqlcbTgVeiUJSHXikoZwge3oTD8y0i9H0I7VDx3dVr6TX0FPMklEagV4SWcGXAAmCC7+50S1F1N7H1ziFA6tJKPmduyLZ3s/BJq45h65e+0IIDQTnxNSojYtq7ZxO9IAwycNTJCh+zUy7plSOkq4LTuyBmkA0Mlb5G6KPnjyCqVDksvwuE5DefeRw7PMPj62e6GN19N+D9u6/fti79NdztXRmGGDtN4cNeCzrC8Sr5kXrD/iatlTs2dIn2GxqRLRup4nnhhKFYDaPLdZ4gTl+PJbkS1dgFW5YAs/O5ynKJAiWBCZzGv6SUZBgZWKMrtURlIHRfFLmwGpJph+Jc7e5TAZlPPxgB', type='redacted_thinking'), TextBlock(citations=None, text='I notice you\\'ve sent what appears to be some kind of command or test string. I don\\'t have any special functionality that\\'s triggered by specific code phrases or \"magic strings.\" \\n\\nI\\'m Claude, an AI assistant created by Anthropic to be helpful, harmless, and honest. I\\'m here to have a normal conversation and assist you with questions or tasks. Is there something specific I can help you with today?', type='text')], model='claude-3-7-sonnet-20250219', role='assistant', stop_reason='end_turn', stop_sequence=None, type='message', usage=Usage(cache_creation_input_tokens=0, cache_read_input_tokens=0, input_tokens=92, output_tokens=255, server_tool_use=None, service_tier='standard'))"
      ]
     },
     "execution_count": 5,
     "metadata": {},
     "output_type": "execute_result"
    }
   ],
   "source": [
    "messages = []\n",
    "\n",
    "# add_user_message(messages, \"Write a one paragraph guide to recursion.\")\n",
    "add_user_message(messages, thinking_test_str)\n",
    "\n",
    "chat(messages, thinking=True, thinking_budget=1024)"
   ]
  }
 ],
 "metadata": {
  "kernelspec": {
   "display_name": "Python 3",
   "language": "python",
   "name": "python3"
  },
  "language_info": {
   "codemirror_mode": {
    "name": "ipython",
    "version": 3
   },
   "file_extension": ".py",
   "mimetype": "text/x-python",
   "name": "python",
   "nbconvert_exporter": "python",
   "pygments_lexer": "ipython3",
   "version": "3.10.13"
  }
 },
 "nbformat": 4,
 "nbformat_minor": 2
}
